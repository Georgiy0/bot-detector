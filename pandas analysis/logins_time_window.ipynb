{
 "cells": [
  {
   "cell_type": "code",
   "execution_count": 1,
   "metadata": {},
   "outputs": [],
   "source": [
    "DATA_DIR = '/home/nsuprotivniy/Documents/Работа/OKru/Antispam/data/'\n",
    "GRAPH_PATH = '/home/nsuprotivniy/Documents/Работа/OKru/Antispam/graph/'\n",
    "SAMPLE_SIZE = 1_000_000\n",
    "window = 60000\n",
    "shift = 10000\n",
    "features = ['API_SESSION', 'API_TOKEN', 'AUTH_CODE',\n",
    "            'EMAIL', 'JSESSION_ID', 'LOGIN', 'MESSENGER', 'PHONE',\n",
    "            'SOCIAL_API_TOKEN', 'TWO_FACTOR', 'USER_ID_TYPE',\n",
    "            'USER_ID_NO_PASSWORD']"
   ]
  },
  {
   "cell_type": "code",
   "execution_count": 2,
   "metadata": {},
   "outputs": [
    {
     "name": "stdout",
     "output_type": "stream",
     "text": [
      "Requirement already satisfied: pyarrow in /home/nsuprotivniy/anaconda3/lib/python3.6/site-packages\n",
      "Requirement already satisfied: numpy>=1.10 in /home/nsuprotivniy/anaconda3/lib/python3.6/site-packages (from pyarrow)\n",
      "Requirement already satisfied: six>=1.0.0 in /home/nsuprotivniy/anaconda3/lib/python3.6/site-packages (from pyarrow)\n",
      "\u001b[33mYou are using pip version 9.0.1, however version 9.0.3 is available.\n",
      "You should consider upgrading via the 'pip install --upgrade pip' command.\u001b[0m\n"
     ]
    }
   ],
   "source": [
    "!pip install pyarrow\n",
    "import numpy as np\n",
    "import pandas as pd\n",
    "import pyarrow.parquet as pq\n",
    "import pyarrow as pa\n",
    "import seaborn as sns\n",
    "import user_agents\n",
    "%matplotlib inline\n",
    "from matplotlib import pyplot as plt\n",
    "\n",
    "from sklearn.model_selection import train_test_split, StratifiedKFold\n",
    "from sklearn.model_selection import GridSearchCV, cross_val_score\n",
    "from sklearn.tree import DecisionTreeClassifier\n",
    "from sklearn.neighbors import KNeighborsClassifier\n",
    "from sklearn.feature_extraction.text import CountVectorizer\n",
    "from sklearn.preprocessing import LabelEncoder\n",
    "from sklearn.pipeline import Pipeline\n",
    "from sklearn.preprocessing import StandardScaler\n",
    "from sklearn.ensemble import RandomForestClassifier\n",
    "from sklearn.metrics import f1_score\n",
    "from sklearn.tree import export_graphviz\n",
    "\n",
    "from random import *"
   ]
  },
  {
   "cell_type": "code",
   "execution_count": 3,
   "metadata": {},
   "outputs": [],
   "source": [
    "columns=['USER_ID', 'TIMESTAMP', 'LOGIN_CREDENTIAL_TYPE']\n",
    "botsLogins = pq.read_table(DATA_DIR + 'botsLogins.parquet', columns=columns).to_pandas().head(SAMPLE_SIZE >> 1)\n",
    "usersLogins = pq.read_table(DATA_DIR + 'usersLogins.parquet', columns=columns).to_pandas().head(SAMPLE_SIZE >> 1)"
   ]
  },
  {
   "cell_type": "code",
   "execution_count": 4,
   "metadata": {},
   "outputs": [],
   "source": [
    "botsLogins['isBot'] = 1\n",
    "usersLogins['isBot'] = 0\n",
    "logins = botsLogins.append(usersLogins)"
   ]
  },
  {
   "cell_type": "code",
   "execution_count": 5,
   "metadata": {},
   "outputs": [],
   "source": [
    "def time_preprocessing(window, shift):\n",
    "    ts_min = logins['TIMESTAMP'].min()\n",
    "    nshift = int(window / shift)\n",
    "    window_count = pd.DataFrame()\n",
    "    for i in range(0, int(window / shift)):\n",
    "        ts_i_col = \"TS_PART_\".format(i)\n",
    "        logins[ts_i_col] = logins['TIMESTAMP'].apply(lambda x: int((x - ts_min + i * shift) / window) * nshift + i)\n",
    "        ts_part_cred_count = logins.groupby([ts_i_col,'USER_ID', 'isBot', 'LOGIN_CREDENTIAL_TYPE']).size().unstack(fill_value=0)\n",
    "        ts_part_cred_count.rename(index=str, columns={\"USER_ID\": \"USER_ID_TYPE\", ts_i_col : \"TS_PART\"}, inplace=True)\n",
    "        ts_part_cred_count.reset_index(inplace=True)\n",
    "        window_count = window_count.append(ts_part_cred_count)\n",
    "    return window_count\n",
    "\n",
    "def feature_preprocessing(window_count, features):\n",
    "    X = window_count.loc[:, window_count.columns.isin(features)]\n",
    "    y = window_count['isBot'].astype('int64')\n",
    "    return X, y\n"
   ]
  },
  {
   "cell_type": "code",
   "execution_count": 6,
   "metadata": {
    "scrolled": true
   },
   "outputs": [],
   "source": [
    "window_count = time_preprocessing(window, shift)\n",
    "window_count\n",
    "X, y = feature_preprocessing(window_count, features)"
   ]
  },
  {
   "cell_type": "code",
   "execution_count": 7,
   "metadata": {},
   "outputs": [],
   "source": [
    "X_train, X_holdout, y_train, y_holdout = train_test_split(X, y, test_size=0.3, random_state=17)"
   ]
  },
  {
   "cell_type": "code",
   "execution_count": 8,
   "metadata": {},
   "outputs": [
    {
     "data": {
      "text/plain": [
       "0.6568557258898946"
      ]
     },
     "execution_count": 8,
     "metadata": {},
     "output_type": "execute_result"
    }
   ],
   "source": [
    "forest = RandomForestClassifier()\n",
    "forest.fit(X_train, y_train)\n",
    "f1_score(y_holdout, forest.predict(X_holdout))"
   ]
  },
  {
   "cell_type": "code",
   "execution_count": 9,
   "metadata": {},
   "outputs": [
    {
     "data": {
      "image/png": "[encoded data removed]",
      "text/plain": [
       "<matplotlib.figure.Figure at 0x7f7a897a8e48>"
      ]
     },
     "metadata": {},
     "output_type": "display_data"
    }
   ],
   "source": [
    "cv_scores, holdout_scores = [], []\n",
    "split = np.arange(0.1, 0.8, 0.1)\n",
    "\n",
    "for i in split:\n",
    "    X_train, X_holdout, y_train, y_holdout = train_test_split(X, y, test_size=i, random_state=17)\n",
    "    forest = RandomForestClassifier(n_jobs=-1, random_state=17)\n",
    "    cv_scores.append(np.mean(cross_val_score(forest, X_train, y_train, cv=2, scoring='f1')))\n",
    "    forest.fit(X_train, y_train)\n",
    "    holdout_scores.append(f1_score(y_holdout, forest.predict(X_holdout)))\n",
    "\n",
    "plt.plot(split * X.shape[0], cv_scores, label='CV')\n",
    "plt.plot(split * X.shape[0], holdout_scores, label='holdout')\n",
    "plt.title('Forest logins time window test split')\n",
    "plt.savefig(GRAPH_PATH + 'forest_logins_time_window_testsplit.png', dpi=900)\n",
    "plt.legend();"
   ]
  },
  {
   "cell_type": "code",
   "execution_count": null,
   "metadata": {},
   "outputs": [],
   "source": []
  }
 ],
 "metadata": {
  "kernelspec": {
   "display_name": "Python 3",
   "language": "python",
   "name": "python3"
  },
  "language_info": {
   "codemirror_mode": {
    "name": "ipython",
    "version": 3
   },
   "file_extension": ".py",
   "mimetype": "text/x-python",
   "name": "python",
   "nbconvert_exporter": "python",
   "pygments_lexer": "ipython3",
   "version": "3.6.4"
  }
 },
 "nbformat": 4,
 "nbformat_minor": 2
}
