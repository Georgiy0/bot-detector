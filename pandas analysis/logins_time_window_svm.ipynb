{
 "cells": [
  {
   "cell_type": "code",
   "execution_count": 1,
   "metadata": {},
   "outputs": [],
   "source": [
    "DATA_DIR = '/home/nsuprotivniy/Documents/Работа/OKru/Antispam/data/'\n",
    "GRAPH_PATH = '/home/nsuprotivniy/Documents/Работа/OKru/Antispam/graph/'\n",
    "SAMPLE_SIZE = -1\n",
    "window = 60000\n",
    "shift = 10000\n",
    "features = ['API_SESSION', 'API_TOKEN', 'AUTH_CODE',\n",
    "            'EMAIL', 'JSESSION_ID', 'LOGIN', 'MESSENGER', 'PHONE',\n",
    "            'SOCIAL_API_TOKEN', 'TWO_FACTOR', 'USER_ID_TYPE',\n",
    "            'USER_ID_NO_PASSWORD']\n",
    "batch_window = 43_200_000"
   ]
  },
  {
   "cell_type": "code",
   "execution_count": 13,
   "metadata": {},
   "outputs": [
    {
     "name": "stdout",
     "output_type": "stream",
     "text": [
      "Requirement already satisfied: pyarrow in /home/nsuprotivniy/anaconda3/lib/python3.6/site-packages\n",
      "Requirement already satisfied: six>=1.0.0 in /home/nsuprotivniy/anaconda3/lib/python3.6/site-packages (from pyarrow)\n",
      "Requirement already satisfied: numpy>=1.10 in /home/nsuprotivniy/anaconda3/lib/python3.6/site-packages (from pyarrow)\n",
      "\u001b[33mYou are using pip version 9.0.1, however version 9.0.3 is available.\n",
      "You should consider upgrading via the 'pip install --upgrade pip' command.\u001b[0m\n"
     ]
    }
   ],
   "source": [
    "!pip install pyarrow\n",
    "import numpy as np\n",
    "import pandas as pd\n",
    "import pyarrow.parquet as pq\n",
    "import pyarrow as pa\n",
    "import seaborn as sns\n",
    "import user_agents\n",
    "%matplotlib inline\n",
    "from matplotlib import pyplot as plt\n",
    "\n",
    "from sklearn.model_selection import train_test_split, StratifiedKFold\n",
    "from sklearn.model_selection import GridSearchCV, cross_val_score\n",
    "from sklearn.tree import DecisionTreeClassifier\n",
    "from sklearn.neighbors import KNeighborsClassifier\n",
    "from sklearn.feature_extraction.text import CountVectorizer\n",
    "from sklearn.preprocessing import LabelEncoder\n",
    "from sklearn.pipeline import Pipeline\n",
    "from sklearn.preprocessing import StandardScaler\n",
    "from sklearn.ensemble import RandomForestClassifier\n",
    "from sklearn.metrics import f1_score, classification_report\n",
    "from sklearn.tree import export_graphviz\n",
    "from sklearn import svm\n",
    "from sklearn.linear_model import SGDClassifier\n",
    "\n",
    "from random import *"
   ]
  },
  {
   "cell_type": "code",
   "execution_count": 3,
   "metadata": {},
   "outputs": [],
   "source": [
    "columns=['USER_ID', 'TIMESTAMP', 'LOGIN_CREDENTIAL_TYPE']\n",
    "botsLogins = pq.read_table(DATA_DIR + 'botsLogins.parquet', columns=columns).to_pandas().head(SAMPLE_SIZE >> 1)\n",
    "usersLogins = pq.read_table(DATA_DIR + 'usersLogins.parquet', columns=columns).to_pandas().head(SAMPLE_SIZE >> 1)"
   ]
  },
  {
   "cell_type": "code",
   "execution_count": 4,
   "metadata": {},
   "outputs": [],
   "source": [
    "botsLogins['isBot'] = 1\n",
    "usersLogins['isBot'] = 0\n",
    "logins = botsLogins.append(usersLogins)"
   ]
  },
  {
   "cell_type": "code",
   "execution_count": 5,
   "metadata": {},
   "outputs": [],
   "source": [
    "def time_preprocessing(table, window, shift, ts_min):\n",
    "    nshift = int(window / shift)\n",
    "    window_count = pd.DataFrame()\n",
    "    for i in range(0, int(window / shift)):\n",
    "        ts_i_col = \"TS_PART_\".format(i)\n",
    "        table[ts_i_col] = table.apply(lambda x: int((x.name - ts_min + i * shift) / window) * nshift + i, axis=1)\n",
    "        ts_part_cred_count = table.groupby([ts_i_col,'USER_ID', 'isBot', 'LOGIN_CREDENTIAL_TYPE']).size().unstack(fill_value=0)\n",
    "        ts_part_cred_count.rename(index=str, columns={\"USER_ID\": \"USER_ID_TYPE\", ts_i_col : \"TS_PART\"}, inplace=True)\n",
    "        ts_part_cred_count.reset_index(inplace=True)\n",
    "        window_count = window_count.append(ts_part_cred_count)\n",
    "    return window_count\n",
    "\n",
    "def feature_preprocessing(window_count, features):\n",
    "    X = window_count.reindex(columns=features, fill_value=0)\n",
    "    y = window_count['isBot'].astype('int64')\n",
    "    return X, y\n"
   ]
  },
  {
   "cell_type": "code",
   "execution_count": 6,
   "metadata": {},
   "outputs": [],
   "source": [
    "logins.sort_values(by=['TIMESTAMP'], inplace=True)\n",
    "ts_min = logins['TIMESTAMP'].min()\n",
    "ts_max = logins['TIMESTAMP'].max()\n",
    "logins.set_index('TIMESTAMP', inplace=True)"
   ]
  },
  {
   "cell_type": "code",
   "execution_count": 7,
   "metadata": {},
   "outputs": [],
   "source": [
    "train_test_split = int(logins.shape[0] * 0.7)\n",
    "train_logins = logins[:train_test_split]\n",
    "test_logins = logins[train_test_split:]"
   ]
  },
  {
   "cell_type": "code",
   "execution_count": null,
   "metadata": {},
   "outputs": [],
   "source": []
  },
  {
   "cell_type": "code",
   "execution_count": 8,
   "metadata": {
    "scrolled": true
   },
   "outputs": [
    {
     "name": "stdout",
     "output_type": "stream",
     "text": [
      "Batch 1517432401933 1517475601933\n",
      "CPU times: user 167 ms, sys: 56 ms, total: 223 ms\n",
      "Wall time: 223 ms\n",
      "Batch 1517475601933 1517518801933\n",
      "CPU times: user 320 ms, sys: 68 ms, total: 388 ms\n",
      "Wall time: 388 ms\n",
      "Batch 1517518801933 1517562001933\n",
      "CPU times: user 155 ms, sys: 68 ms, total: 223 ms\n",
      "Wall time: 223 ms\n",
      "Batch 1517562001933 1517605201933\n",
      "CPU times: user 282 ms, sys: 108 ms, total: 390 ms\n",
      "Wall time: 390 ms\n",
      "Batch 1517605201933 1517648401933\n",
      "CPU times: user 181 ms, sys: 24.1 ms, total: 205 ms\n",
      "Wall time: 205 ms\n",
      "Batch 1517648401933 1517691601933\n",
      "CPU times: user 262 ms, sys: 39.9 ms, total: 302 ms\n",
      "Wall time: 302 ms\n",
      "Batch 1517691601933 1517734801933\n",
      "CPU times: user 151 ms, sys: 68.1 ms, total: 219 ms\n",
      "Wall time: 219 ms\n",
      "Batch 1517734801933 1517778001933\n",
      "CPU times: user 345 ms, sys: 80 ms, total: 425 ms\n",
      "Wall time: 425 ms\n",
      "Batch 1517778001933 1517821201933\n",
      "CPU times: user 182 ms, sys: 31.9 ms, total: 214 ms\n",
      "Wall time: 214 ms\n",
      "Batch 1517821201933 1517864401933\n",
      "CPU times: user 318 ms, sys: 84.1 ms, total: 402 ms\n",
      "Wall time: 402 ms\n",
      "Batch 1517864401933 1517907601933\n",
      "CPU times: user 185 ms, sys: 24 ms, total: 209 ms\n",
      "Wall time: 209 ms\n",
      "Batch 1517907601933 1517950801933\n",
      "CPU times: user 309 ms, sys: 96 ms, total: 405 ms\n",
      "Wall time: 405 ms\n",
      "Batch 1517950801933 1517994001933\n",
      "CPU times: user 192 ms, sys: 40 ms, total: 232 ms\n",
      "Wall time: 232 ms\n",
      "Batch 1517994001933 1518037201933\n",
      "CPU times: user 335 ms, sys: 64 ms, total: 399 ms\n",
      "Wall time: 399 ms\n",
      "Batch 1518037201933 1518080401933\n",
      "CPU times: user 173 ms, sys: 36 ms, total: 209 ms\n",
      "Wall time: 209 ms\n",
      "Batch 1518080401933 1518123601933\n",
      "CPU times: user 318 ms, sys: 68 ms, total: 386 ms\n",
      "Wall time: 386 ms\n",
      "Batch 1518123601933 1518166801933\n",
      "CPU times: user 188 ms, sys: 32 ms, total: 220 ms\n",
      "Wall time: 220 ms\n",
      "Batch 1518166801933 1518210001933\n",
      "CPU times: user 304 ms, sys: 92 ms, total: 396 ms\n",
      "Wall time: 397 ms\n",
      "Batch 1518210001933 1518253201933\n",
      "CPU times: user 159 ms, sys: 52.1 ms, total: 211 ms\n",
      "Wall time: 211 ms\n",
      "Batch 1518253201933 1518296401933\n",
      "CPU times: user 260 ms, sys: 28 ms, total: 288 ms\n",
      "Wall time: 288 ms\n",
      "Batch 1518296401933 1518339601933\n",
      "CPU times: user 175 ms, sys: 40 ms, total: 215 ms\n",
      "Wall time: 215 ms\n",
      "Batch 1518339601933 1518382801933\n",
      "CPU times: user 315 ms, sys: 88.1 ms, total: 403 ms\n",
      "Wall time: 403 ms\n",
      "Batch 1518382801933 1518426001933\n",
      "CPU times: user 186 ms, sys: 40 ms, total: 226 ms\n",
      "Wall time: 226 ms\n",
      "Batch 1518426001933 1518469201933\n",
      "CPU times: user 320 ms, sys: 92 ms, total: 412 ms\n",
      "Wall time: 412 ms\n",
      "Batch 1518469201933 1518512401933\n",
      "CPU times: user 188 ms, sys: 36 ms, total: 224 ms\n",
      "Wall time: 224 ms\n",
      "Batch 1518512401933 1518555601933\n",
      "CPU times: user 351 ms, sys: 56.1 ms, total: 407 ms\n",
      "Wall time: 407 ms\n",
      "Batch 1518555601933 1518598801933\n",
      "CPU times: user 183 ms, sys: 60 ms, total: 243 ms\n",
      "Wall time: 243 ms\n",
      "Batch 1518598801933 1518642001933\n",
      "CPU times: user 340 ms, sys: 68 ms, total: 408 ms\n",
      "Wall time: 408 ms\n",
      "Batch 1518642001933 1518685201933\n",
      "CPU times: user 188 ms, sys: 40 ms, total: 228 ms\n",
      "Wall time: 228 ms\n",
      "Batch 1518685201933 1518728401933\n",
      "CPU times: user 299 ms, sys: 92.1 ms, total: 391 ms\n",
      "Wall time: 391 ms\n",
      "Batch 1518728401933 1518771601933\n",
      "CPU times: user 184 ms, sys: 16 ms, total: 200 ms\n",
      "Wall time: 200 ms\n",
      "Batch 1518771601933 1518814801933\n",
      "CPU times: user 305 ms, sys: 80 ms, total: 385 ms\n",
      "Wall time: 385 ms\n",
      "Batch 1518814801933 1518858001933\n",
      "CPU times: user 170 ms, sys: 56 ms, total: 226 ms\n",
      "Wall time: 226 ms\n",
      "Batch 1518858001933 1518901201933\n",
      "CPU times: user 318 ms, sys: 76.1 ms, total: 394 ms\n",
      "Wall time: 394 ms\n",
      "Batch 1518901201933 1518944401933\n",
      "CPU times: user 182 ms, sys: 60.1 ms, total: 242 ms\n",
      "Wall time: 242 ms\n",
      "Batch 1518944401933 1518987601933\n",
      "CPU times: user 344 ms, sys: 72 ms, total: 416 ms\n",
      "Wall time: 416 ms\n",
      "Batch 1518987601933 1519030801933\n",
      "CPU times: user 175 ms, sys: 52.1 ms, total: 227 ms\n",
      "Wall time: 227 ms\n",
      "Batch 1519030801933 1519074001933\n",
      "CPU times: user 303 ms, sys: 100 ms, total: 403 ms\n",
      "Wall time: 403 ms\n",
      "Batch 1519074001933 1519117201933\n",
      "CPU times: user 176 ms, sys: 48 ms, total: 224 ms\n",
      "Wall time: 224 ms\n",
      "Batch 1519117201933 1519160401933\n",
      "CPU times: user 88 ms, sys: 16 ms, total: 104 ms\n",
      "Wall time: 104 ms\n"
     ]
    }
   ],
   "source": [
    "pd.options.mode.chained_assignment = None\n",
    "clf = SGDClassifier(random_state=17, max_iter=1000)\n",
    "for i in range(ts_min, ts_max - batch_window, batch_window):\n",
    "    batch = train_logins.loc[i:i + batch_window]\n",
    "    if (batch.shape[0] == 0):\n",
    "        continue\n",
    "    print(\"Batch\", i, i + batch_window)\n",
    "    window_count = time_preprocessing(batch, window, shift, ts_min)\n",
    "    X_batch, y_batch = feature_preprocessing(window_count, features)\n",
    "    %%time clf.partial_fit(X_batch, y_batch, classes=[0,1])"
   ]
  },
  {
   "cell_type": "code",
   "execution_count": 9,
   "metadata": {},
   "outputs": [],
   "source": [
    "window_count = time_preprocessing(test_logins, window, shift, ts_min)\n",
    "X_test, y_test = feature_preprocessing(window_count, features)"
   ]
  },
  {
   "cell_type": "code",
   "execution_count": 10,
   "metadata": {},
   "outputs": [
    {
     "data": {
      "text/plain": [
       "0.13064507556295732"
      ]
     },
     "execution_count": 10,
     "metadata": {},
     "output_type": "execute_result"
    }
   ],
   "source": [
    "f1_score(y_test, clf.predict(X_test))"
   ]
  },
  {
   "cell_type": "code",
   "execution_count": 11,
   "metadata": {},
   "outputs": [],
   "source": [
    "# cv_scores, holdout_scores = [], []\n",
    "# split = np.arange(0.1, 0.8, 0.1)\n",
    "\n",
    "# for i in split:\n",
    "#     X_train, X_holdout, y_train, y_holdout = train_test_split(X, y, test_size=i, random_state=17)\n",
    "#     clf = clf = svm.SVC(random_state=17)\n",
    "#     cv_scores.append(np.mean(cross_val_score(clf, X_train, y_train, cv=2, scoring='f1')))\n",
    "#     clf.fit(X_train, y_train)\n",
    "#     holdout_scores.append(f1_score(y_holdout, clf.predict(X_holdout)))\n",
    "\n",
    "# plt.plot(split * X.shape[0], cv_scores, label='CV')\n",
    "# plt.plot(split * X.shape[0], holdout_scores, label='holdout')\n",
    "# plt.title('Forest logins time window test split')\n",
    "# plt.savefig(GRAPH_PATH + 'forest_logins_time_window_testsplit.png', dpi=900)\n",
    "# plt.legend();"
   ]
  },
  {
   "cell_type": "code",
   "execution_count": 19,
   "metadata": {},
   "outputs": [
    {
     "name": "stdout",
     "output_type": "stream",
     "text": [
      "             precision    recall  f1-score   support\n",
      "\n",
      "          0       1.00      1.00      1.00  14387307\n",
      "          1       0.26      0.09      0.13     42318\n",
      "\n",
      "avg / total       1.00      1.00      1.00  14429625\n",
      "\n"
     ]
    }
   ],
   "source": [
    "print(classification_report(y_test, clf.predict(X_test)))"
   ]
  },
  {
   "cell_type": "code",
   "execution_count": null,
   "metadata": {},
   "outputs": [],
   "source": []
  }
 ],
 "metadata": {
  "kernelspec": {
   "display_name": "Python 3",
   "language": "python",
   "name": "python3"
  },
  "language_info": {
   "codemirror_mode": {
    "name": "ipython",
    "version": 3
   },
   "file_extension": ".py",
   "mimetype": "text/x-python",
   "name": "python",
   "nbconvert_exporter": "python",
   "pygments_lexer": "ipython3",
   "version": "3.6.4"
  }
 },
 "nbformat": 4,
 "nbformat_minor": 2
}
