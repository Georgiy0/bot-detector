{
 "cells": [
  {
   "cell_type": "code",
   "execution_count": 101,
   "metadata": {},
   "outputs": [],
   "source": [
    "DATA_DIR = '/home/nsuprotivniy/Documents/Работа/OKru/Antispam/data/'\n",
    "GRAPH_PATH = '/home/nsuprotivniy/Documents/Работа/OKru/Antispam/graph/'\n",
    "\n",
    "SAMPLE_FRAC = 0.01 \n",
    "\n",
    "\n",
    "FEATURES = [\n",
    "    'DeviceClass',\n",
    "    'DeviceName',\n",
    "    'DeviceBrand',\n",
    "    'DeviceCpu',\n",
    "    'DeviceCpuBits',\n",
    "    'OperatingSystemClass',\n",
    "    'OperatingSystemName',\n",
    "    'OperatingSystemVersion',\n",
    "    'OperatingSystemNameVersion',\n",
    "    'OperatingSystemVersionBuild',\n",
    "    'LayoutEngineClass',\n",
    "    'LayoutEngineName',\n",
    "    'LayoutEngineVersion',\n",
    "    'LayoutEngineVersionMajor',\n",
    "    'LayoutEngineNameVersion',\n",
    "    'LayoutEngineNameVersionMajor',\n",
    "    'AgentClass',\n",
    "    'AgentName',\n",
    "    'AgentVersion',\n",
    "    'AgentVersionMajor',\n",
    "    'AgentNameVersion',\n",
    "    'AgentNameVersionMajor',\n",
    "#     'from',\n",
    "#     'to',\n",
    "#     'url',\n",
    "#     'requestType',\n",
    "    'operation'\n",
    "]"
   ]
  },
  {
   "cell_type": "code",
   "execution_count": 102,
   "metadata": {},
   "outputs": [],
   "source": [
    "import numpy as np\n",
    "import pandas as pd\n",
    "import pyarrow.parquet as pq\n",
    "import pyarrow as pa\n",
    "\n",
    "from sklearn.preprocessing import OneHotEncoder\n",
    "from sklearn.base import TransformerMixin\n",
    "\n",
    "%matplotlib inline\n",
    "from matplotlib import pyplot as plt\n",
    "\n",
    "pd.set_option(\"display.precision\", 2)"
   ]
  },
  {
   "cell_type": "markdown",
   "metadata": {},
   "source": [
    "### Модели преобразования данных"
   ]
  },
  {
   "cell_type": "code",
   "execution_count": 103,
   "metadata": {},
   "outputs": [],
   "source": [
    "class HashingTrick(TransformerMixin):\n",
    "    \n",
    "    _default_hashing_trick_modulars = {\n",
    "        'DeviceClass': 10000,\n",
    "        'DeviceName': 10000,\n",
    "        'DeviceBrand': 10000,\n",
    "        'DeviceCpu': 10000,\n",
    "        'DeviceCpuBits': 10000,\n",
    "        'OperatingSystemClass': 10000,\n",
    "        'OperatingSystemName': 10000,\n",
    "        'OperatingSystemVersion': 10000,\n",
    "        'OperatingSystemNameVersion': 10000,\n",
    "        'OperatingSystemVersionBuild': 10000,\n",
    "        'LayoutEngineClass': 10000,\n",
    "        'LayoutEngineName': 10000,\n",
    "        'LayoutEngineVersion': 10000,\n",
    "        'LayoutEngineVersionMajor': 10000,\n",
    "        'LayoutEngineNameVersion': 10000,\n",
    "        'LayoutEngineNameVersionMajor': 10000,\n",
    "        'AgentClass': 10000,\n",
    "        'AgentName': 10000,\n",
    "        'AgentVersion': 10000,\n",
    "        'AgentVersionMajor': 10000,\n",
    "        'AgentNameVersion': 10000,\n",
    "        'AgentNameVersionMajor': 10000,\n",
    "        'from': 10000,\n",
    "        'to': 10000,\n",
    "        'url': 10000000,\n",
    "        'requestType': 10000,\n",
    "        'operation': 10000\n",
    "    }\n",
    "    \n",
    "    def __init__(self, hashing_trick_modulars = _default_hashing_trick_modulars):\n",
    "        self.hashing_trick_modulars = hashing_trick_modulars\n",
    "    \n",
    "    def set_params(self, **kwargs):\n",
    "        \"\"\"Set the parameters of this estimator.\"\"\"\n",
    "    \n",
    "    def get_params(self, **kwargs):\n",
    "        return {\"hashing_trick_modulars\": self.hashing_trick_modulars}\n",
    "        \n",
    "    def _hashing_trick(self, x, n):\n",
    "        return hash(x) % n\n",
    "\n",
    "    def _column_hashing_trick(self, col_name):\n",
    "        self.http[col_name] = self.http[col_name].apply(self._hashing_trick, args=(self.hashing_trick_modulars[col_name],))\n",
    "  \n",
    "    def fit_transform(self, X, *_):\n",
    "        return self.transform(X)\n",
    "        \n",
    "    def transform(self, X, *_):\n",
    "        self.http = X\n",
    "        for feature in FEATURES:\n",
    "            self._column_hashing_trick(feature)\n",
    "\n",
    "        return self.http\n",
    "    \n",
    "    def fit(self, *_):\n",
    "        return self"
   ]
  },
  {
   "cell_type": "code",
   "execution_count": 104,
   "metadata": {},
   "outputs": [],
   "source": [
    "ht = HashingTrick()\n",
    "ohe = OneHotEncoder(handle_unknown='ignore')"
   ]
  },
  {
   "cell_type": "markdown",
   "metadata": {},
   "source": [
    "### Загрузка данных из паркета"
   ]
  },
  {
   "cell_type": "code",
   "execution_count": 105,
   "metadata": {},
   "outputs": [],
   "source": [
    "X = pq.read_table(DATA_DIR + 'HTTPRequests-20180217_1718_parsedUAA.parquet', columns=FEATURES ).to_pandas().sample(frac=SAMPLE_FRAC)\n",
    "y = pq.read_table(DATA_DIR + 'HTTPRequests-20180217_1718_parsedUAA.parquet', columns=['isBot'] ).to_pandas().sample(frac=SAMPLE_FRAC)"
   ]
  },
  {
   "cell_type": "markdown",
   "metadata": {},
   "source": [
    "### Преобразование данных"
   ]
  },
  {
   "cell_type": "code",
   "execution_count": 106,
   "metadata": {},
   "outputs": [],
   "source": [
    "X = ht.transform(X)\n",
    "X = ohe.fit_transform(X)"
   ]
  },
  {
   "cell_type": "markdown",
   "metadata": {},
   "source": [
    "### Преобразует номер фичи в её имя"
   ]
  },
  {
   "cell_type": "code",
   "execution_count": 112,
   "metadata": {},
   "outputs": [],
   "source": [
    "def feature_name(i):\n",
    "    a_from = ohe.feature_indices_[:ohe.feature_indices_.shape[0] - 1]\n",
    "    a_to = ohe.feature_indices_[1:]\n",
    "    for i_from, i_to,k in zip(a_from, a_to, range(0, a_from.shape[0])):\n",
    "        if (i in range(i_from, i_to)):\n",
    "            return FEATURES[k]\n",
    "    return 'unknown'"
   ]
  },
  {
   "cell_type": "code",
   "execution_count": 114,
   "metadata": {},
   "outputs": [
    {
     "data": {
      "text/plain": [
       "('DeviceClass', 'DeviceCpuBits', 'unknown', 'unknown')"
      ]
     },
     "execution_count": 114,
     "metadata": {},
     "output_type": "execute_result"
    }
   ],
   "source": [
    "feature_name(7), feature_name(43242), feature_name(543254325432543254325), feature_name(-1)"
   ]
  },
  {
   "cell_type": "code",
   "execution_count": null,
   "metadata": {},
   "outputs": [],
   "source": []
  }
 ],
 "metadata": {
  "kernelspec": {
   "display_name": "Python 3",
   "language": "python",
   "name": "python3"
  },
  "language_info": {
   "codemirror_mode": {
    "name": "ipython",
    "version": 3
   },
   "file_extension": ".py",
   "mimetype": "text/x-python",
   "name": "python",
   "nbconvert_exporter": "python",
   "pygments_lexer": "ipython3",
   "version": "3.6.4"
  }
 },
 "nbformat": 4,
 "nbformat_minor": 2
}
